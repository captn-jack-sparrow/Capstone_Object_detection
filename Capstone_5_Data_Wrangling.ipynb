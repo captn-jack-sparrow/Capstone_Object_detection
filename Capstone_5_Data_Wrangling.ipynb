{
 "cells": [
  {
   "cell_type": "code",
   "execution_count": 3,
   "id": "31c6117b",
   "metadata": {},
   "outputs": [],
   "source": [
    "import numpy as np"
   ]
  },
  {
   "cell_type": "code",
   "execution_count": 4,
   "id": "b631a5ef",
   "metadata": {},
   "outputs": [],
   "source": [
    "import pandas as pd"
   ]
  },
  {
   "cell_type": "code",
   "execution_count": 5,
   "id": "e842281a",
   "metadata": {},
   "outputs": [],
   "source": [
    "from PIL import Image"
   ]
  },
  {
   "cell_type": "code",
   "execution_count": 6,
   "id": "fb291742",
   "metadata": {},
   "outputs": [],
   "source": [
    "import os"
   ]
  },
  {
   "cell_type": "code",
   "execution_count": 7,
   "id": "5ec90c82",
   "metadata": {},
   "outputs": [],
   "source": [
    "# This defines the folders where the files are stored\n",
    "\n",
    "images_train_path = \"C:/Users/Obama/Downloads/kaggle_datasets/playing_card_dataset_object_detection/train/images/\"\n",
    "labels_train_path = \"C:/Users/Obama/Downloads/kaggle_datasets/playing_card_dataset_object_detection/train/labels/\"\n",
    "images_test_path = \"C:/Users/Obama/Downloads/kaggle_datasets/playing_card_dataset_object_detection/test/images/\"\n",
    "labels_test_path = \"C:/Users/Obama/Downloads/kaggle_datasets/playing_card_dataset_object_detection/test/labels/\"\n",
    "\n",
    "# This gets a list of all the file names for each folder\n",
    "\n",
    "images_train_names = os.listdir(images_train_path)\n",
    "labels_train_names = os.listdir(labels_train_path)\n",
    "images_test_names = os.listdir(images_test_path)\n",
    "labels_test_names = os.listdir(labels_test_path)"
   ]
  },
  {
   "cell_type": "code",
   "execution_count": 8,
   "id": "2b81a9b9",
   "metadata": {},
   "outputs": [],
   "source": [
    "def pathwayconverttodata(folder, list_of_files):\n",
    "    typechecker = 0 \n",
    "    dataset = []\n",
    "    \n",
    "    # typechecker check if the file type is a image (jpeg) or label (text)\n",
    "    if list_of_files[0][-1] == \"g\":\n",
    "        typechecker = 1\n",
    "        \n",
    "    # images = g = 1 = True,\n",
    "    # labels = t = 0 = False,\n",
    "        \n",
    "    if typechecker:\n",
    "        for file_name in list_of_files:\n",
    "                      \n",
    "            filepath = os.path.join(folder, file_name)\n",
    "            image = Image.open(filepath)\n",
    "            image_array = np.array(image)\n",
    "            dataset.append(image_array)\n",
    "    \n",
    "    else:\n",
    "        \n",
    "        for file_name in list_of_files:\n",
    "            filepath = os.path.join(folder, file_name)\n",
    "            with open(filepath, \"r\") as file:\n",
    "                content = file.read()\n",
    "            dataset.append(content)\n",
    "    \n",
    "    return dataset"
   ]
  },
  {
   "cell_type": "code",
   "execution_count": 9,
   "id": "37928a57",
   "metadata": {},
   "outputs": [],
   "source": [
    "# Applying the function to the paths and files to load in the data\n",
    "\n",
    "images_train_raw = pathwayconverttodata(images_train_path, images_train_names)\n",
    "labels_train_raw = pathwayconverttodata(labels_train_path, labels_train_names)\n",
    "images_test_raw = pathwayconverttodata(images_test_path, images_test_names)\n",
    "labels_test_raw = pathwayconverttodata(labels_test_path, labels_test_names)"
   ]
  },
  {
   "cell_type": "code",
   "execution_count": 10,
   "id": "1db668f3",
   "metadata": {},
   "outputs": [],
   "source": [
    "# Altering the data format from tuple to list\n",
    "\n",
    "images_train_list = list(images_train_raw)\n",
    "images_test_list = list(images_test_raw)"
   ]
  },
  {
   "cell_type": "code",
   "execution_count": 24,
   "id": "eef31fa6",
   "metadata": {},
   "outputs": [
    {
     "data": {
      "text/plain": [
       "False"
      ]
     },
     "execution_count": 24,
     "metadata": {},
     "output_type": "execute_result"
    }
   ],
   "source": [
    "has_empty_string = any(item == \"\" for item in labels_train_raw)\n",
    "has_empty_string"
   ]
  },
  {
   "cell_type": "code",
   "execution_count": 23,
   "id": "0ac17583",
   "metadata": {},
   "outputs": [
    {
     "data": {
      "text/plain": [
       "False"
      ]
     },
     "execution_count": 23,
     "metadata": {},
     "output_type": "execute_result"
    }
   ],
   "source": [
    "has_empty_string = any(item == \"\" for item in labels_test_raw)\n",
    "has_empty_string"
   ]
  },
  {
   "cell_type": "code",
   "execution_count": null,
   "id": "b7f7422d",
   "metadata": {},
   "outputs": [],
   "source": [
    "# All the data is intacted and is ready to be loaded into the yolov7 model library.\n",
    "# yolov7 takes images in a folder and text files in a folder as input. The folder names just\n",
    "# have to be specified at the time of training.\n",
    "# All the files are there and there are no missing values so these are ready for training. \n",
    "# A very easy wrangling process."
   ]
  }
 ],
 "metadata": {
  "kernelspec": {
   "display_name": "Python 3 (ipykernel)",
   "language": "python",
   "name": "python3"
  },
  "language_info": {
   "codemirror_mode": {
    "name": "ipython",
    "version": 3
   },
   "file_extension": ".py",
   "mimetype": "text/x-python",
   "name": "python",
   "nbconvert_exporter": "python",
   "pygments_lexer": "ipython3",
   "version": "3.9.13"
  }
 },
 "nbformat": 4,
 "nbformat_minor": 5
}
